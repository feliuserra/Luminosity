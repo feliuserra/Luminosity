{
 "cells": [
  {
   "cell_type": "code",
   "execution_count": 5,
   "metadata": {
    "collapsed": true
   },
   "outputs": [],
   "source": [
    "import numpy as np\n",
    "\n",
    "from pystruct.datasets import load_letters\n",
    "letters = load_letters()"
   ]
  },
  {
   "cell_type": "code",
   "execution_count": 6,
   "metadata": {
    "collapsed": true
   },
   "outputs": [],
   "source": [
    "features, y, folds = letters['data'], letters['labels'], letters['folds']"
   ]
  },
  {
   "cell_type": "code",
   "execution_count": 7,
   "metadata": {
    "collapsed": false
   },
   "outputs": [],
   "source": [
    "features, y, folds = letters['data'], letters['labels'], letters['folds']\n",
    "features, y = np.array(features), np.array(y)\n",
    "features_train, features_test = features[folds == 1], features[folds != 1]\n",
    "y_train, y_test = y[folds == 1], y[folds != 1]"
   ]
  },
  {
   "cell_type": "code",
   "execution_count": 9,
   "metadata": {
    "collapsed": false
   },
   "outputs": [],
   "source": [
    "features_0 = features_train[0]\n",
    "features_0.shape\n",
    "(9, 128)\n",
    "n_nodes = features_0.shape[0]\n",
    "edges_0 = np.vstack([np.arange(n_nodes - 1), np.arange(1, n_nodes)])\n",
    "x = (features_0, edges_0)"
   ]
  },
  {
   "cell_type": "code",
   "execution_count": null,
   "metadata": {
    "collapsed": true
   },
   "outputs": [],
   "source": []
  }
 ],
 "metadata": {
  "kernelspec": {
   "display_name": "Python 3",
   "language": "python",
   "name": "python3"
  },
  "language_info": {
   "codemirror_mode": {
    "name": "ipython",
    "version": 3
   },
   "file_extension": ".py",
   "mimetype": "text/x-python",
   "name": "python",
   "nbconvert_exporter": "python",
   "pygments_lexer": "ipython3",
   "version": "3.5.2"
  }
 },
 "nbformat": 4,
 "nbformat_minor": 2
}

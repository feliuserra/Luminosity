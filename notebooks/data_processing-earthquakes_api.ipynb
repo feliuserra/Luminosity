{
 "cells": [
  {
   "cell_type": "code",
   "execution_count": 10,
   "metadata": {
    "collapsed": true
   },
   "outputs": [],
   "source": [
    "import time as ti\n",
    "import gzip as gz\n",
    "import numpy as np\n",
    "import pandas as pd\n",
    "import pickle as pk\n",
    "import requests as rq\n",
    "import tensorflow as tf\n",
    "import matplotlib.pyplot as plt\n",
    "\n",
    "from scipy import sparse\n",
    "from tifffile import TiffFile"
   ]
  },
  {
   "cell_type": "code",
   "execution_count": 2,
   "metadata": {
    "collapsed": true
   },
   "outputs": [],
   "source": [
    "%run ../src/geo_helpers.py"
   ]
  },
  {
   "cell_type": "code",
   "execution_count": 6,
   "metadata": {
    "collapsed": true
   },
   "outputs": [],
   "source": [
    "earthquakes_res = rq.get('https://earthquake.usgs.gov/fdsnws/event/1/query.geojson?starttime=1992-01-01%2000:00:00&endtime=1999-12-31%2000:00:00&minmagnitude=5&orderby=time')\n",
    "earthquakes = earthquakes_res.json()['features']"
   ]
  },
  {
   "cell_type": "code",
   "execution_count": 14,
   "metadata": {},
   "outputs": [
    {
     "name": "stdout",
     "output_type": "stream",
     "text": [
      "M 5.6 - Balleny Islands region\n",
      "CPU times: user 14.3 s, sys: 1.97 s, total: 16.3 s\n",
      "Wall time: 17.2 s\n"
     ]
    }
   ],
   "source": [
    "%%time\n",
    "for npz_path in npz_paths:\n",
    "    lum_raster = sparse.lil_matrix(np.load(npz_path)['arr_0'])\n",
    "    qks_raster = sparse.lil_matrix(lum_raster.shape)\n",
    "    for earthquake in earthquakes:\n",
    "        if ti.gmtime(earthquake['properties']['time']/1000).tm_year == 1992:\n",
    "            coo = *earthquake['geometry']['coordinates'],\n",
    "            pxl = as_pixels(target_coords={'lat':coo[1],'lng':coo[0]})\n",
    "            try:\n",
    "                qks_raster[pxl[0],pxl[1]] = earthquake['properties']['mag']\n",
    "            except IndexError:\n",
    "                print(earthquake['properties']['title'])\n",
    "                pass\n",
    "            \n",
    "    np.savez_compressed(npz_path.replace('raw','interim'),{\n",
    "        'lum': lum_raster, 'qks': qks_raster\n",
    "    })"
   ]
  },
  {
   "cell_type": "code",
   "execution_count": 43,
   "metadata": {
    "collapsed": true
   },
   "outputs": [],
   "source": [
    "%run ../src/geo_helpers.py"
   ]
  },
  {
   "cell_type": "code",
   "execution_count": 51,
   "metadata": {
    "collapsed": true
   },
   "outputs": [],
   "source": [
    "df_quakes = pd.DataFrame([\n",
    "    (\n",
    "        q['geometry']['coordinates'][1],\n",
    "        q['geometry']['coordinates'][0],\n",
    "        q['properties']['mag'],\n",
    "        ti.gmtime(q['properties']['time']/1000).tm_year\n",
    "    ) for q in earthquakes\n",
    "], columns=['lat','lng','mag','year'])"
   ]
  },
  {
   "cell_type": "code",
   "execution_count": 67,
   "metadata": {},
   "outputs": [
    {
     "data": {
      "text/html": [
       "<div>\n",
       "<style>\n",
       "    .dataframe thead tr:only-child th {\n",
       "        text-align: right;\n",
       "    }\n",
       "\n",
       "    .dataframe thead th {\n",
       "        text-align: left;\n",
       "    }\n",
       "\n",
       "    .dataframe tbody tr th {\n",
       "        vertical-align: top;\n",
       "    }\n",
       "</style>\n",
       "<table border=\"1\" class=\"dataframe\">\n",
       "  <thead>\n",
       "    <tr style=\"text-align: right;\">\n",
       "      <th></th>\n",
       "      <th>lat</th>\n",
       "      <th>lng</th>\n",
       "      <th>mag</th>\n",
       "      <th>year</th>\n",
       "    </tr>\n",
       "  </thead>\n",
       "  <tbody>\n",
       "    <tr>\n",
       "      <th>9130</th>\n",
       "      <td>-11.931</td>\n",
       "      <td>119.281</td>\n",
       "      <td>5.0</td>\n",
       "      <td>1993</td>\n",
       "    </tr>\n",
       "    <tr>\n",
       "      <th>9135</th>\n",
       "      <td>53.831</td>\n",
       "      <td>160.514</td>\n",
       "      <td>5.0</td>\n",
       "      <td>1993</td>\n",
       "    </tr>\n",
       "    <tr>\n",
       "      <th>8316</th>\n",
       "      <td>-5.806</td>\n",
       "      <td>146.246</td>\n",
       "      <td>5.0</td>\n",
       "      <td>1993</td>\n",
       "    </tr>\n",
       "    <tr>\n",
       "      <th>8315</th>\n",
       "      <td>-5.795</td>\n",
       "      <td>146.195</td>\n",
       "      <td>5.0</td>\n",
       "      <td>1993</td>\n",
       "    </tr>\n",
       "    <tr>\n",
       "      <th>9136</th>\n",
       "      <td>-13.437</td>\n",
       "      <td>66.718</td>\n",
       "      <td>5.0</td>\n",
       "      <td>1993</td>\n",
       "    </tr>\n",
       "    <tr>\n",
       "      <th>8312</th>\n",
       "      <td>-6.727</td>\n",
       "      <td>129.862</td>\n",
       "      <td>5.0</td>\n",
       "      <td>1993</td>\n",
       "    </tr>\n",
       "    <tr>\n",
       "      <th>9139</th>\n",
       "      <td>-9.276</td>\n",
       "      <td>113.246</td>\n",
       "      <td>5.0</td>\n",
       "      <td>1993</td>\n",
       "    </tr>\n",
       "    <tr>\n",
       "      <th>9141</th>\n",
       "      <td>-34.246</td>\n",
       "      <td>-178.725</td>\n",
       "      <td>5.0</td>\n",
       "      <td>1993</td>\n",
       "    </tr>\n",
       "    <tr>\n",
       "      <th>9147</th>\n",
       "      <td>32.981</td>\n",
       "      <td>96.053</td>\n",
       "      <td>5.0</td>\n",
       "      <td>1993</td>\n",
       "    </tr>\n",
       "    <tr>\n",
       "      <th>8483</th>\n",
       "      <td>-22.078</td>\n",
       "      <td>-179.297</td>\n",
       "      <td>5.0</td>\n",
       "      <td>1993</td>\n",
       "    </tr>\n",
       "    <tr>\n",
       "      <th>9148</th>\n",
       "      <td>-5.217</td>\n",
       "      <td>68.655</td>\n",
       "      <td>5.0</td>\n",
       "      <td>1993</td>\n",
       "    </tr>\n",
       "    <tr>\n",
       "      <th>8747</th>\n",
       "      <td>-0.682</td>\n",
       "      <td>124.324</td>\n",
       "      <td>5.0</td>\n",
       "      <td>1993</td>\n",
       "    </tr>\n",
       "    <tr>\n",
       "      <th>9152</th>\n",
       "      <td>37.572</td>\n",
       "      <td>141.459</td>\n",
       "      <td>5.0</td>\n",
       "      <td>1993</td>\n",
       "    </tr>\n",
       "    <tr>\n",
       "      <th>8302</th>\n",
       "      <td>-5.805</td>\n",
       "      <td>146.207</td>\n",
       "      <td>5.0</td>\n",
       "      <td>1993</td>\n",
       "    </tr>\n",
       "    <tr>\n",
       "      <th>9155</th>\n",
       "      <td>35.624</td>\n",
       "      <td>-112.147</td>\n",
       "      <td>5.0</td>\n",
       "      <td>1993</td>\n",
       "    </tr>\n",
       "    <tr>\n",
       "      <th>9157</th>\n",
       "      <td>-7.179</td>\n",
       "      <td>129.049</td>\n",
       "      <td>5.0</td>\n",
       "      <td>1993</td>\n",
       "    </tr>\n",
       "    <tr>\n",
       "      <th>9159</th>\n",
       "      <td>-5.729</td>\n",
       "      <td>147.730</td>\n",
       "      <td>5.0</td>\n",
       "      <td>1993</td>\n",
       "    </tr>\n",
       "    <tr>\n",
       "      <th>9160</th>\n",
       "      <td>-13.304</td>\n",
       "      <td>44.582</td>\n",
       "      <td>5.0</td>\n",
       "      <td>1993</td>\n",
       "    </tr>\n",
       "    <tr>\n",
       "      <th>9162</th>\n",
       "      <td>-16.323</td>\n",
       "      <td>167.443</td>\n",
       "      <td>5.0</td>\n",
       "      <td>1993</td>\n",
       "    </tr>\n",
       "    <tr>\n",
       "      <th>8305</th>\n",
       "      <td>1.464</td>\n",
       "      <td>126.311</td>\n",
       "      <td>5.0</td>\n",
       "      <td>1993</td>\n",
       "    </tr>\n",
       "    <tr>\n",
       "      <th>8296</th>\n",
       "      <td>36.215</td>\n",
       "      <td>141.672</td>\n",
       "      <td>5.0</td>\n",
       "      <td>1993</td>\n",
       "    </tr>\n",
       "    <tr>\n",
       "      <th>8482</th>\n",
       "      <td>9.105</td>\n",
       "      <td>150.219</td>\n",
       "      <td>5.0</td>\n",
       "      <td>1993</td>\n",
       "    </tr>\n",
       "    <tr>\n",
       "      <th>8756</th>\n",
       "      <td>-5.469</td>\n",
       "      <td>35.784</td>\n",
       "      <td>5.0</td>\n",
       "      <td>1993</td>\n",
       "    </tr>\n",
       "    <tr>\n",
       "      <th>9052</th>\n",
       "      <td>1.628</td>\n",
       "      <td>126.344</td>\n",
       "      <td>5.0</td>\n",
       "      <td>1993</td>\n",
       "    </tr>\n",
       "    <tr>\n",
       "      <th>9056</th>\n",
       "      <td>-5.409</td>\n",
       "      <td>152.136</td>\n",
       "      <td>5.0</td>\n",
       "      <td>1993</td>\n",
       "    </tr>\n",
       "  </tbody>\n",
       "</table>\n",
       "</div>"
      ],
      "text/plain": [
       "         lat      lng  mag  year\n",
       "9130 -11.931  119.281  5.0  1993\n",
       "9135  53.831  160.514  5.0  1993\n",
       "8316  -5.806  146.246  5.0  1993\n",
       "8315  -5.795  146.195  5.0  1993\n",
       "9136 -13.437   66.718  5.0  1993\n",
       "8312  -6.727  129.862  5.0  1993\n",
       "9139  -9.276  113.246  5.0  1993\n",
       "9141 -34.246 -178.725  5.0  1993\n",
       "9147  32.981   96.053  5.0  1993\n",
       "8483 -22.078 -179.297  5.0  1993\n",
       "9148  -5.217   68.655  5.0  1993\n",
       "8747  -0.682  124.324  5.0  1993\n",
       "9152  37.572  141.459  5.0  1993\n",
       "8302  -5.805  146.207  5.0  1993\n",
       "9155  35.624 -112.147  5.0  1993\n",
       "9157  -7.179  129.049  5.0  1993\n",
       "9159  -5.729  147.730  5.0  1993\n",
       "9160 -13.304   44.582  5.0  1993\n",
       "9162 -16.323  167.443  5.0  1993\n",
       "8305   1.464  126.311  5.0  1993\n",
       "8296  36.215  141.672  5.0  1993\n",
       "8482   9.105  150.219  5.0  1993\n",
       "8756  -5.469   35.784  5.0  1993\n",
       "9052   1.628  126.344  5.0  1993\n",
       "9056  -5.409  152.136  5.0  1993"
      ]
     },
     "execution_count": 67,
     "metadata": {},
     "output_type": "execute_result"
    }
   ],
   "source": [
    "df_quakes[df_quakes['year']==1993].sort_values('mag').head(25)"
   ]
  },
  {
   "cell_type": "code",
   "execution_count": 75,
   "metadata": {},
   "outputs": [
    {
     "data": {
      "image/png": "[encoded data removed]",
      "text/plain": [
       "<matplotlib.figure.Figure at 0x111aeb358>"
      ]
     },
     "metadata": {},
     "output_type": "display_data"
    },
    {
     "data": {
      "image/png": "[encoded data removed]",
      "text/plain": [
       "<matplotlib.figure.Figure at 0x111c29ba8>"
      ]
     },
     "metadata": {},
     "output_type": "display_data"
    }
   ],
   "source": [
    "location = as_pixels(target_coords={'lat': 36,'lng': 141})\n",
    "plt.figure(figsize=(10,5))\n",
    "d=50\n",
    "image = lum_raster[(location[0]-d):(location[0]+d), (location[1]-d):(location[1]+d)].toarray()\n",
    "quakes = qks_raster[(location[0]-d):(location[0]+d), (location[1]-d):(location[1]+d)].toarray()\n",
    "plt.imshow(image,\n",
    "           cmap='bone')\n",
    "plt.show()\n",
    "plt.imshow(quakes, cmap='afmhot')\n",
    "plt.show()"
   ]
  }
 ],
 "metadata": {
  "kernelspec": {
   "display_name": "Python 3",
   "language": "python",
   "name": "python3"
  },
  "language_info": {
   "codemirror_mode": {
    "name": "ipython",
    "version": 3
   },
   "file_extension": ".py",
   "mimetype": "text/x-python",
   "name": "python",
   "nbconvert_exporter": "python",
   "pygments_lexer": "ipython3",
   "version": "3.5.2"
  }
 },
 "nbformat": 4,
 "nbformat_minor": 2
}

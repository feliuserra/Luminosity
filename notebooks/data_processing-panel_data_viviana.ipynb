{
 "cells": [
  {
   "cell_type": "code",
   "execution_count": 12,
   "metadata": {},
   "outputs": [
    {
     "name": "stderr",
     "output_type": "stream",
     "text": [
      "/usr/local/lib/python3.5/site-packages/matplotlib/font_manager.py:273: UserWarning: Matplotlib is building the font cache using fc-list. This may take a moment.\n",
      "  warnings.warn('Matplotlib is building the font cache using fc-list. This may take a moment.')\n",
      "/usr/local/lib/python3.5/site-packages/matplotlib/font_manager.py:273: UserWarning: Matplotlib is building the font cache using fc-list. This may take a moment.\n",
      "  warnings.warn('Matplotlib is building the font cache using fc-list. This may take a moment.')\n"
     ]
    }
   ],
   "source": [
    "import numpy as np\n",
    "import pandas as pd\n",
    "%run ../src/models/geo_helpers.py\n",
    "%run ../src/models/section_series.py\n",
    "%matplotlib inline\n",
    "pd.options.display.float_format = '{:,.4f}'.format"
   ]
  },
  {
   "cell_type": "code",
   "execution_count": 13,
   "metadata": {
    "collapsed": true
   },
   "outputs": [],
   "source": [
    "series_loader = SectionSeriesLoader(\n",
    "    img_shape=(200, 200),\n",
    "    SRC_PATH='../data/interim/Version_4_DMSP-OLS_Nighttime_Lights_Time_Returns/*.npz')"
   ]
  },
  {
   "cell_type": "code",
   "execution_count": 149,
   "metadata": {},
   "outputs": [
    {
     "name": "stderr",
     "output_type": "stream",
     "text": [
      "/usr/local/lib/python3.5/site-packages/IPython/core/interactiveshell.py:2683: DtypeWarning: Columns (3) have mixed types. Specify dtype option on import or set low_memory=False.\n",
      "  interactivity=interactivity, compiler=compiler, result=result)\n"
     ]
    },
    {
     "data": {
      "text/html": [
       "<div>\n",
       "<table border=\"1\" class=\"dataframe\">\n",
       "  <thead>\n",
       "    <tr style=\"text-align: right;\">\n",
       "      <th></th>\n",
       "      <th>Country</th>\n",
       "      <th>city</th>\n",
       "      <th>AccentCity</th>\n",
       "      <th>Region</th>\n",
       "      <th>Population</th>\n",
       "      <th>Latitude</th>\n",
       "      <th>Longitude</th>\n",
       "    </tr>\n",
       "  </thead>\n",
       "  <tbody>\n",
       "    <tr>\n",
       "      <th>0</th>\n",
       "      <td>ad</td>\n",
       "      <td>aixas</td>\n",
       "      <td>Aixàs</td>\n",
       "      <td>6.0000</td>\n",
       "      <td>nan</td>\n",
       "      <td>42.4833</td>\n",
       "      <td>1.4667</td>\n",
       "    </tr>\n",
       "    <tr>\n",
       "      <th>1</th>\n",
       "      <td>ad</td>\n",
       "      <td>aixirivali</td>\n",
       "      <td>Aixirivali</td>\n",
       "      <td>6.0000</td>\n",
       "      <td>nan</td>\n",
       "      <td>42.4667</td>\n",
       "      <td>1.5000</td>\n",
       "    </tr>\n",
       "    <tr>\n",
       "      <th>2</th>\n",
       "      <td>ad</td>\n",
       "      <td>aixirivall</td>\n",
       "      <td>Aixirivall</td>\n",
       "      <td>6.0000</td>\n",
       "      <td>nan</td>\n",
       "      <td>42.4667</td>\n",
       "      <td>1.5000</td>\n",
       "    </tr>\n",
       "    <tr>\n",
       "      <th>3</th>\n",
       "      <td>ad</td>\n",
       "      <td>aixirvall</td>\n",
       "      <td>Aixirvall</td>\n",
       "      <td>6.0000</td>\n",
       "      <td>nan</td>\n",
       "      <td>42.4667</td>\n",
       "      <td>1.5000</td>\n",
       "    </tr>\n",
       "    <tr>\n",
       "      <th>4</th>\n",
       "      <td>ad</td>\n",
       "      <td>aixovall</td>\n",
       "      <td>Aixovall</td>\n",
       "      <td>6.0000</td>\n",
       "      <td>nan</td>\n",
       "      <td>42.4667</td>\n",
       "      <td>1.4833</td>\n",
       "    </tr>\n",
       "  </tbody>\n",
       "</table>\n",
       "</div>"
      ],
      "text/plain": [
       "  Country        city  AccentCity Region  Population  Latitude  Longitude\n",
       "0      ad       aixas       Aixàs 6.0000         nan   42.4833     1.4667\n",
       "1      ad  aixirivali  Aixirivali 6.0000         nan   42.4667     1.5000\n",
       "2      ad  aixirivall  Aixirivall 6.0000         nan   42.4667     1.5000\n",
       "3      ad   aixirvall   Aixirvall 6.0000         nan   42.4667     1.5000\n",
       "4      ad    aixovall    Aixovall 6.0000         nan   42.4667     1.4833"
      ]
     },
     "execution_count": 149,
     "metadata": {},
     "output_type": "execute_result"
    }
   ],
   "source": [
    "city_locations_path = '../data/external/' +\\\n",
    "    'worldcitiespop.txt'\n",
    "\n",
    "city_locations = pd.read_csv(city_locations_path, encoding = \"ISO-8859-1\").rename(columns={'City': 'city'})\n",
    "city_locations.head()"
   ]
  },
  {
   "cell_type": "code",
   "execution_count": 150,
   "metadata": {},
   "outputs": [
    {
     "data": {
      "text/html": [
       "<div>\n",
       "<table border=\"1\" class=\"dataframe\">\n",
       "  <thead>\n",
       "    <tr style=\"text-align: right;\">\n",
       "      <th></th>\n",
       "      <th>id</th>\n",
       "      <th>country</th>\n",
       "      <th>city</th>\n",
       "      <th>latitude</th>\n",
       "      <th>longitude</th>\n",
       "      <th>geoname</th>\n",
       "      <th>year</th>\n",
       "      <th>month</th>\n",
       "      <th>day</th>\n",
       "      <th>Totaldeaths</th>\n",
       "      <th>Totalaffected</th>\n",
       "      <th>Totaldamage000US</th>\n",
       "      <th>insured_losses</th>\n",
       "    </tr>\n",
       "  </thead>\n",
       "  <tbody>\n",
       "    <tr>\n",
       "      <th>0</th>\n",
       "      <td>1</td>\n",
       "      <td>Afghanistan</td>\n",
       "      <td>takhar</td>\n",
       "      <td>36.7000</td>\n",
       "      <td>69.8000</td>\n",
       "      <td>NaN</td>\n",
       "      <td>1992</td>\n",
       "      <td>5</td>\n",
       "      <td>20</td>\n",
       "      <td>14</td>\n",
       "      <td>0</td>\n",
       "      <td>0</td>\n",
       "      <td>0</td>\n",
       "    </tr>\n",
       "    <tr>\n",
       "      <th>1</th>\n",
       "      <td>2</td>\n",
       "      <td>Afghanistan</td>\n",
       "      <td>jowzan</td>\n",
       "      <td>36.7500</td>\n",
       "      <td>66.0000</td>\n",
       "      <td>Jowzjan</td>\n",
       "      <td>1994</td>\n",
       "      <td>5</td>\n",
       "      <td>1</td>\n",
       "      <td>160</td>\n",
       "      <td>100330</td>\n",
       "      <td>0</td>\n",
       "      <td>0</td>\n",
       "    </tr>\n",
       "    <tr>\n",
       "      <th>2</th>\n",
       "      <td>2</td>\n",
       "      <td>Afghanistan</td>\n",
       "      <td>mazar-i-sharif</td>\n",
       "      <td>36.7500</td>\n",
       "      <td>67.0000</td>\n",
       "      <td>mazar-i-sharif</td>\n",
       "      <td>1994</td>\n",
       "      <td>5</td>\n",
       "      <td>1</td>\n",
       "      <td>160</td>\n",
       "      <td>100330</td>\n",
       "      <td>0</td>\n",
       "      <td>0</td>\n",
       "    </tr>\n",
       "    <tr>\n",
       "      <th>3</th>\n",
       "      <td>2</td>\n",
       "      <td>Afghanistan</td>\n",
       "      <td>balkh</td>\n",
       "      <td>36.7501</td>\n",
       "      <td>66.8997</td>\n",
       "      <td>balkh</td>\n",
       "      <td>1994</td>\n",
       "      <td>5</td>\n",
       "      <td>1</td>\n",
       "      <td>160</td>\n",
       "      <td>100330</td>\n",
       "      <td>0</td>\n",
       "      <td>0</td>\n",
       "    </tr>\n",
       "    <tr>\n",
       "      <th>4</th>\n",
       "      <td>2</td>\n",
       "      <td>Afghanistan</td>\n",
       "      <td>termez</td>\n",
       "      <td>37.2242</td>\n",
       "      <td>67.2783</td>\n",
       "      <td>NaN</td>\n",
       "      <td>1994</td>\n",
       "      <td>5</td>\n",
       "      <td>1</td>\n",
       "      <td>160</td>\n",
       "      <td>100330</td>\n",
       "      <td>0</td>\n",
       "      <td>0</td>\n",
       "    </tr>\n",
       "  </tbody>\n",
       "</table>\n",
       "</div>"
      ],
      "text/plain": [
       "   id      country            city  latitude  longitude         geoname  year  \\\n",
       "0   1  Afghanistan          takhar   36.7000    69.8000             NaN  1992   \n",
       "1   2  Afghanistan          jowzan   36.7500    66.0000         Jowzjan  1994   \n",
       "2   2  Afghanistan  mazar-i-sharif   36.7500    67.0000  mazar-i-sharif  1994   \n",
       "3   2  Afghanistan           balkh   36.7501    66.8997           balkh  1994   \n",
       "4   2  Afghanistan          termez   37.2242    67.2783             NaN  1994   \n",
       "\n",
       "   month  day  Totaldeaths  Totalaffected  Totaldamage000US  insured_losses  \n",
       "0      5   20           14              0                 0               0  \n",
       "1      5    1          160         100330                 0               0  \n",
       "2      5    1          160         100330                 0               0  \n",
       "3      5    1          160         100330                 0               0  \n",
       "4      5    1          160         100330                 0               0  "
      ]
     },
     "execution_count": 150,
     "metadata": {},
     "output_type": "execute_result"
    }
   ],
   "source": [
    "earthquake_locations_path = '../data/external/' +\\\n",
    "    'earthquakes_affected_locations/earthquakes_affected_locations.csv'\n",
    "\n",
    "earthquake_locations = pd.read_csv(src_earthquakes_path, encoding = \"ISO-8859-1\")\n",
    "earthquake_locations['city'] = earthquake_locations['city'].apply(lambda c: c.lower())\n",
    "earthquake_locations.head()"
   ]
  },
  {
   "cell_type": "code",
   "execution_count": 160,
   "metadata": {},
   "outputs": [
    {
     "name": "stdout",
     "output_type": "stream",
     "text": [
      "CPU times: user 5.22 s, sys: 4.12 s, total: 9.35 s\n",
      "Wall time: 11.3 s\n"
     ]
    }
   ],
   "source": [
    "%%time\n",
    "annual_frames = {}\n",
    "for year in earthquake_locations.year.unique()[:1]:\n",
    "    annual_frames[year] = pd.merge(city_locations, earthquake_locations[earthquake_locations.year == year], on='city', how='left')\n",
    "    annual_frames[year]['year'] = year\n",
    "    annual_frames[year].fillna(0).reset_index().groupby('index').agg({\n",
    "        'Totaldeaths': 'sum',\n",
    "        'Totalaffected': 'sum',\n",
    "        'Totaldamage000US': 'sum',\n",
    "        'insured_losses': 'sum',\n",
    "        'Latitude': 'first',\n",
    "        'Longitude': 'first'\n",
    "    })"
   ]
  }
 ],
 "metadata": {
  "kernelspec": {
   "display_name": "Python 3",
   "language": "python",
   "name": "python3"
  },
  "language_info": {
   "codemirror_mode": {
    "name": "ipython",
    "version": 3
   },
   "file_extension": ".py",
   "mimetype": "text/x-python",
   "name": "python",
   "nbconvert_exporter": "python",
   "pygments_lexer": "ipython3",
   "version": "3.5.2"
  }
 },
 "nbformat": 4,
 "nbformat_minor": 2
}

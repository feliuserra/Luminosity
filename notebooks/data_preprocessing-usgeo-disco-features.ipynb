{
 "cells": [
  {
   "cell_type": "code",
   "execution_count": 1,
   "metadata": {},
   "outputs": [],
   "source": [
    "%load_ext rpy2.ipython"
   ]
  },
  {
   "cell_type": "code",
   "execution_count": 2,
   "metadata": {
    "collapsed": true
   },
   "outputs": [],
   "source": [
    "import numpy as np\n",
    "import pandas as pd\n",
    "import tensorflow as tf\n",
    "import matplotlib.pyplot as plt\n",
    "%matplotlib inline\n",
    "\n",
    "from tifffile import TiffFile"
   ]
  },
  {
   "cell_type": "markdown",
   "metadata": {},
   "source": [
    "## Average Stable Lights"
   ]
  },
  {
   "cell_type": "code",
   "execution_count": 3,
   "metadata": {},
   "outputs": [
    {
     "name": "stdout",
     "output_type": "stream",
     "text": [
      "CPU times: user 7.53 s, sys: 6.86 s, total: 14.4 s\n",
      "Wall time: 18.6 s\n"
     ]
    }
   ],
   "source": [
    "%%time\n",
    "img_paths = [\n",
    "    '../data/raw/Version_4_DMSP-OLS_Nighttime_Lights_Time_Series/F101992.v4b_web.stable_lights.avg_vis.tif.npz',\n",
    "    '../data/raw/Version_4_DMSP-OLS_Nighttime_Lights_Time_Series/F182013.v4c_web.stable_lights.avg_vis.tif.npz',\n",
    "]\n",
    "t_years = len(img_paths)\n",
    "n = 16801\n",
    "m = 43201\n",
    "\n",
    "images = np.zeros((len(img_paths),n,m))\n",
    "                  \n",
    "for i, p in enumerate(img_paths):\n",
    "    images[i] = np.load(p)['arr_0']"
   ]
  },
  {
   "cell_type": "markdown",
   "metadata": {},
   "source": [
    "### Extracting Subimages (Convolutional Style)"
   ]
  },
  {
   "cell_type": "code",
   "execution_count": 4,
   "metadata": {},
   "outputs": [],
   "source": [
    "def convolve_coordinates(image, step_size = (200,200), sub_image_shape = (300,300)):\n",
    "    passes = [int(image.shape[i]/step_size[i]-sub_image_shape[i]/step_size[i]+1) for i in range(2)]\n",
    "    sub_image_coordinates = np.zeros((*passes,2,2))\n",
    "    for i in range(passes[0]):\n",
    "        step_i = i*step_size[0]\n",
    "        for j in range(passes[1]):\n",
    "            step_j = j*step_size[1]\n",
    "            sub_image_coordinates[i,j] = [\n",
    "                [step_i,step_i+sub_image_shape[0]],\n",
    "                [step_j,step_j+sub_image_shape[1]]\n",
    "            ]\n",
    "            \n",
    "    return sub_image_coordinates.reshape(passes[0]*passes[1],2,2)"
   ]
  },
  {
   "cell_type": "code",
   "execution_count": 6,
   "metadata": {},
   "outputs": [
    {
     "name": "stdout",
     "output_type": "stream",
     "text": [
      "CPU times: user 115 ms, sys: 7.18 ms, total: 123 ms\n",
      "Wall time: 124 ms\n"
     ]
    }
   ],
   "source": [
    "%%time\n",
    "sub_img_pxl = np.zeros((t_years, 17845, 2, 2))\n",
    "\n",
    "for t, img in enumerate(images):\n",
    "    sub_img_pxl[t] = convolve_coordinates(img)\n",
    "    \n",
    "sub_img_pxl.shape"
   ]
  },
  {
   "cell_type": "markdown",
   "metadata": {},
   "source": [
    "Function using coordinates to retrieve information (faster)"
   ]
  },
  {
   "cell_type": "code",
   "execution_count": 7,
   "metadata": {},
   "outputs": [],
   "source": [
    "def retrieve_sub_img(image,img_pxl):\n",
    "    return image[img_pxl[0][0]:img_pxl[0][1],\n",
    "                 img_pxl[1][0]:img_pxl[1][1]]"
   ]
  },
  {
   "cell_type": "code",
   "execution_count": 8,
   "metadata": {
    "collapsed": true
   },
   "outputs": [],
   "source": [
    "def get_pxl(df):\n",
    "    return [\n",
    "        [df['pxll'][0],df['pxlb'][0]],\n",
    "        [df['pxll'][0],df['pxlr'][0]]\n",
    "    ]"
   ]
  },
  {
   "cell_type": "markdown",
   "metadata": {},
   "source": [
    "Construct dataframe"
   ]
  },
  {
   "cell_type": "code",
   "execution_count": 14,
   "metadata": {},
   "outputs": [
    {
     "name": "stderr",
     "output_type": "stream",
     "text": [
      "/usr/local/lib/python3.5/site-packages/ipykernel_launcher.py:3: VisibleDeprecationWarning: using a non-integer number instead of an integer will result in an error in the future\n",
      "  This is separate from the ipykernel package so we can avoid doing imports until\n"
     ]
    },
    {
     "name": "stdout",
     "output_type": "stream",
     "text": [
      "CPU times: user 3min 5s, sys: 19 s, total: 3min 24s\n",
      "Wall time: 3min 30s\n"
     ]
    }
   ],
   "source": [
    "%%time\n",
    "X_df = pd.DataFrame(columns=['year','i','f','t','mean_luminosity','pxlt','pxlb','pxll','pxlr'])\n",
    "\n",
    "for t in range(t_years):\n",
    "    for i, img_pxl in enumerate(sub_img_pxl[t]):\n",
    "        X_df = X_df.append(pd.DataFrame([[\n",
    "            img_paths[t][-42:-38],\n",
    "            str(i) + ' ' + str(t),\n",
    "            str(i),\n",
    "            t,\n",
    "            np.mean(retrieve_sub_img(images[t],img_pxl)),\n",
    "            img_pxl[0,0],\n",
    "            img_pxl[0,1],\n",
    "            img_pxl[1,0],\n",
    "            img_pxl[1,1],\n",
    "        ]],\n",
    "            columns=['year','i','f','t','mean_luminosity','pxlt','pxlb','pxll','pxlr'],\n",
    "            index=[img_paths[t][-42:-38]+' '+str(i)]\n",
    "        ))\n",
    "        \n",
    "X_df.to_csv('../data/processed/usgeo-disco-features.csv',index=False)\n",
    "X_df = X_df.set_index(['i'])\n",
    "X_df.head()"
   ]
  },
  {
   "cell_type": "code",
   "execution_count": 17,
   "metadata": {},
   "outputs": [
    {
     "data": {
      "text/html": [
       "<div>\n",
       "<table border=\"1\" class=\"dataframe\">\n",
       "  <thead>\n",
       "    <tr style=\"text-align: right;\">\n",
       "      <th></th>\n",
       "      <th>year</th>\n",
       "      <th>f</th>\n",
       "      <th>t</th>\n",
       "      <th>mean_luminosity</th>\n",
       "      <th>pxlt</th>\n",
       "      <th>pxlb</th>\n",
       "      <th>pxll</th>\n",
       "      <th>pxlr</th>\n",
       "    </tr>\n",
       "    <tr>\n",
       "      <th>i</th>\n",
       "      <th></th>\n",
       "      <th></th>\n",
       "      <th></th>\n",
       "      <th></th>\n",
       "      <th></th>\n",
       "      <th></th>\n",
       "      <th></th>\n",
       "      <th></th>\n",
       "    </tr>\n",
       "  </thead>\n",
       "  <tbody>\n",
       "    <tr>\n",
       "      <th>0 0</th>\n",
       "      <td>1992</td>\n",
       "      <td>0</td>\n",
       "      <td>0.0</td>\n",
       "      <td>0.0</td>\n",
       "      <td>0.0</td>\n",
       "      <td>300.0</td>\n",
       "      <td>0.0</td>\n",
       "      <td>300.0</td>\n",
       "    </tr>\n",
       "    <tr>\n",
       "      <th>1 0</th>\n",
       "      <td>1992</td>\n",
       "      <td>1</td>\n",
       "      <td>0.0</td>\n",
       "      <td>0.0</td>\n",
       "      <td>0.0</td>\n",
       "      <td>300.0</td>\n",
       "      <td>200.0</td>\n",
       "      <td>500.0</td>\n",
       "    </tr>\n",
       "    <tr>\n",
       "      <th>2 0</th>\n",
       "      <td>1992</td>\n",
       "      <td>2</td>\n",
       "      <td>0.0</td>\n",
       "      <td>0.0</td>\n",
       "      <td>0.0</td>\n",
       "      <td>300.0</td>\n",
       "      <td>400.0</td>\n",
       "      <td>700.0</td>\n",
       "    </tr>\n",
       "    <tr>\n",
       "      <th>3 0</th>\n",
       "      <td>1992</td>\n",
       "      <td>3</td>\n",
       "      <td>0.0</td>\n",
       "      <td>0.0</td>\n",
       "      <td>0.0</td>\n",
       "      <td>300.0</td>\n",
       "      <td>600.0</td>\n",
       "      <td>900.0</td>\n",
       "    </tr>\n",
       "    <tr>\n",
       "      <th>4 0</th>\n",
       "      <td>1992</td>\n",
       "      <td>4</td>\n",
       "      <td>0.0</td>\n",
       "      <td>0.0</td>\n",
       "      <td>0.0</td>\n",
       "      <td>300.0</td>\n",
       "      <td>800.0</td>\n",
       "      <td>1100.0</td>\n",
       "    </tr>\n",
       "  </tbody>\n",
       "</table>\n",
       "</div>"
      ],
      "text/plain": [
       "     year  f    t  mean_luminosity  pxlt   pxlb   pxll    pxlr\n",
       "i                                                             \n",
       "0 0  1992  0  0.0              0.0   0.0  300.0    0.0   300.0\n",
       "1 0  1992  1  0.0              0.0   0.0  300.0  200.0   500.0\n",
       "2 0  1992  2  0.0              0.0   0.0  300.0  400.0   700.0\n",
       "3 0  1992  3  0.0              0.0   0.0  300.0  600.0   900.0\n",
       "4 0  1992  4  0.0              0.0   0.0  300.0  800.0  1100.0"
      ]
     },
     "execution_count": 17,
     "metadata": {},
     "output_type": "execute_result"
    }
   ],
   "source": [
    "X_df = pd.read_csv('../data/processed/usgeo-disco-features.csv', index_col='i')\n",
    "X_df.head()"
   ]
  },
  {
   "cell_type": "code",
   "execution_count": null,
   "metadata": {
    "collapsed": true
   },
   "outputs": [],
   "source": []
  }
 ],
 "metadata": {
  "kernelspec": {
   "display_name": "Python 3",
   "language": "python",
   "name": "python3"
  },
  "language_info": {
   "codemirror_mode": {
    "name": "ipython",
    "version": 3
   },
   "file_extension": ".py",
   "mimetype": "text/x-python",
   "name": "python",
   "nbconvert_exporter": "python",
   "pygments_lexer": "ipython3",
   "version": "3.5.2"
  }
 },
 "nbformat": 4,
 "nbformat_minor": 2
}

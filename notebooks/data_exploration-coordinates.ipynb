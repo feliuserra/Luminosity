{
 "cells": [
  {
   "cell_type": "code",
   "execution_count": 1,
   "metadata": {
    "collapsed": true
   },
   "outputs": [],
   "source": [
    "import gzip as gz\n",
    "import scipy as sc\n",
    "import numpy as np\n",
    "import matplotlib.pyplot as plt\n",
    "from tifffile import TiffFile"
   ]
  },
  {
   "cell_type": "code",
   "execution_count": 2,
   "metadata": {},
   "outputs": [
    {
     "name": "stdout",
     "output_type": "stream",
     "text": [
      "F152002.v4b_web.stable_lights.avg_vis.tif.npz\r\n",
      "F182013.v4c_web.stable_lights.avg_vis.tif.npz\r\n"
     ]
    }
   ],
   "source": [
    "%ls ../data/raw/Version_4_DMSP-OLS_Nighttime_Lights_Time_Series/"
   ]
  },
  {
   "cell_type": "code",
   "execution_count": 3,
   "metadata": {
    "collapsed": true
   },
   "outputs": [],
   "source": [
    "%run ../src/geo_helpers.py"
   ]
  },
  {
   "cell_type": "code",
   "execution_count": 6,
   "metadata": {},
   "outputs": [
    {
     "name": "stdout",
     "output_type": "stream",
     "text": [
      "CPU times: user 6.41 s, sys: 6.48 s, total: 12.9 s\n",
      "Wall time: 14.9 s\n"
     ]
    }
   ],
   "source": [
    "%%time\n",
    "t_years = 2\n",
    "n = 16801\n",
    "m = 43201\n",
    "\n",
    "images = np.zeros((2,n,m))\n",
    "images[0] = np.load('../data/raw/Version_4_DMSP-OLS_Nighttime_Lights_Time_Series/F101992.v4b_web.stable_lights.avg_vis.tif.npz')['arr_0']\n",
    "images[1] = np.load('../data/raw/Version_4_DMSP-OLS_Nighttime_Lights_Time_Series/F182013.v4c_web.stable_lights.avg_vis.tif.npz')['arr_0']"
   ]
  },
  {
   "cell_type": "code",
   "execution_count": 7,
   "metadata": {},
   "outputs": [
    {
     "data": {
      "text/plain": [
       "array([ 8860, 34021])"
      ]
     },
     "execution_count": 7,
     "metadata": {},
     "output_type": "execute_result"
    }
   ],
   "source": [
    "%run ../src/geo_helpers.py\n",
    "as_pixels(target_coords={'lat':1.17,'lng':103.5})"
   ]
  },
  {
   "cell_type": "code",
   "execution_count": 8,
   "metadata": {},
   "outputs": [
    {
     "name": "stdout",
     "output_type": "stream",
     "text": [
      "[ 8881 34021]\n",
      "[ 8860 34021]\n"
     ]
    }
   ],
   "source": [
    "singapore_location = as_pixels(target_coords={'lat':1.17,'lng':103.5})\n",
    "print(singapore_location)"
   ]
  },
  {
   "cell_type": "code",
   "execution_count": 23,
   "metadata": {},
   "outputs": [
    {
     "data": {
      "image/png": "[encoded data removed]",
      "text/plain": [
       "<matplotlib.figure.Figure at 0x108a56748>"
      ]
     },
     "metadata": {},
     "output_type": "display_data"
    }
   ],
   "source": [
    "plt.figure(figsize=(10,5))\n",
    "d=200\n",
    "image = images[0, (singapore_location[0]-d):(singapore_location[0]+d), (singapore_location[1]-d):(singapore_location[1]+d)]\n",
    "plt.imshow(image,\n",
    "           cmap='bone')\n",
    "plt.plot(d,d,'go')\n",
    "plt.xticks([])\n",
    "plt.yticks([])\n",
    "plt.show()"
   ]
  }
 ],
 "metadata": {
  "kernelspec": {
   "display_name": "Python 3",
   "language": "python",
   "name": "python3"
  },
  "language_info": {
   "codemirror_mode": {
    "name": "ipython",
    "version": 3
   },
   "file_extension": ".py",
   "mimetype": "text/x-python",
   "name": "python",
   "nbconvert_exporter": "python",
   "pygments_lexer": "ipython3",
   "version": "3.5.2"
  }
 },
 "nbformat": 4,
 "nbformat_minor": 2
}

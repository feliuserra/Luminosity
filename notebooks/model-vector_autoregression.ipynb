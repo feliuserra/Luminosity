{
 "cells": [
  {
   "cell_type": "markdown",
   "metadata": {},
   "source": [
    "## Setup\n",
    "### Libraries"
   ]
  },
  {
   "cell_type": "code",
   "execution_count": 153,
   "metadata": {},
   "outputs": [
    {
     "name": "stdout",
     "output_type": "stream",
     "text": [
      "The autoreload extension is already loaded. To reload it, use:\n",
      "  %reload_ext autoreload\n",
      "The rpy2.ipython extension is already loaded. To reload it, use:\n",
      "  %reload_ext rpy2.ipython\n"
     ]
    }
   ],
   "source": [
    "%load_ext autoreload\n",
    "%autoreload 2\n",
    "import pycountry\n",
    "import numpy as np\n",
    "import pandas as pd\n",
    "import xarray as xr\n",
    "import xgboost as xgb\n",
    "import seaborn as sns\n",
    "import itertools as it\n",
    "import matplotlib as mpl\n",
    "import matplotlib.pyplot as plt\n",
    "from sklearn.model_selection import KFold\n",
    "from sklearn.metrics import mean_squared_error, mean_absolute_error, r2_score, explained_variance_score\n",
    "from sklearn.preprocessing import LabelEncoder\n",
    "from statsmodels.tsa.vector_ar.dynamic import DynamicPanelVAR\n",
    "%run ../src/models/geo_helpers.py\n",
    "%run ../src/models/section_series.py\n",
    "%load_ext rpy2.ipython\n",
    "%matplotlib inline\n",
    "pd.options.display.float_format = '{:,.4f}'.format"
   ]
  },
  {
   "cell_type": "markdown",
   "metadata": {},
   "source": [
    "### Load Data"
   ]
  },
  {
   "cell_type": "code",
   "execution_count": 154,
   "metadata": {},
   "outputs": [],
   "source": [
    "panel_df = pd.read_csv('../data/processed/section_series_sum_small/panel.csv', index_col=['city','year'])\n",
    "panel = xr.Dataset.from_dataframe(panel_df)"
   ]
  },
  {
   "cell_type": "markdown",
   "metadata": {},
   "source": [
    "## Modeling\n",
    "### VAR Meta Model\n",
    "Run a vector autoregression for every city with 3 lags, estimating the impact of the earthquake dummy."
   ]
  },
  {
   "cell_type": "code",
   "execution_count": 72,
   "metadata": {
    "collapsed": true
   },
   "outputs": [
    {
     "name": "stderr",
     "output_type": "stream",
     "text": [
      "/usr/local/lib/python3.5/site-packages/rpy2/rinterface/__init__.py:186: RRuntimeWarning: \n",
      "Attaching package: ‘dplyr’\n",
      "\n",
      "\n",
      "  warnings.warn(x, RRuntimeWarning)\n",
      "/usr/local/lib/python3.5/site-packages/rpy2/rinterface/__init__.py:186: RRuntimeWarning: The following object is masked from ‘package:MASS’:\n",
      "\n",
      "    select\n",
      "\n",
      "\n",
      "  warnings.warn(x, RRuntimeWarning)\n",
      "/usr/local/lib/python3.5/site-packages/rpy2/rinterface/__init__.py:186: RRuntimeWarning: The following objects are masked from ‘package:stats’:\n",
      "\n",
      "    filter, lag\n",
      "\n",
      "\n",
      "  warnings.warn(x, RRuntimeWarning)\n",
      "/usr/local/lib/python3.5/site-packages/rpy2/rinterface/__init__.py:186: RRuntimeWarning: The following objects are masked from ‘package:base’:\n",
      "\n",
      "    intersect, setdiff, setequal, union\n",
      "\n",
      "\n",
      "  warnings.warn(x, RRuntimeWarning)\n"
     ]
    }
   ],
   "source": [
    "%%R\n",
    "library('dynlm')\n",
    "library('vars')\n",
    "library('dplyr')"
   ]
  },
  {
   "cell_type": "code",
   "execution_count": 96,
   "metadata": {
    "collapsed": true
   },
   "outputs": [],
   "source": [
    "r_panel = panel_df.reset_index().dropna(axis=0)"
   ]
  },
  {
   "cell_type": "code",
   "execution_count": 139,
   "metadata": {
    "collapsed": true
   },
   "outputs": [
    {
     "data": {
      "text/plain": [
       "                  el1        el2        el3\n",
       "0          0.00000000  0.0000000  0.0000000\n",
       "aberdeen  -0.17563194 -0.4249406 -0.2519874\n",
       "abu dhabi -0.33658247 -0.3222856 -0.1746066\n",
       "adana     -0.67835141 -1.0108628 -1.7972348\n",
       "adjumani   0.06700132  0.5836841  0.2192119\n",
       "adrar     -0.30941733 -0.4181638 -1.0294313\n"
      ]
     },
     "metadata": {},
     "output_type": "display_data"
    }
   ],
   "source": [
    "%%R -i r_panel -o results\n",
    "cities <- unique(r_panel$city)\n",
    "results <- data.frame('city'=c(0),'el1'=c(0),'el2'=c(0),'el3'=c(0))\n",
    "\n",
    "for (city in cities){\n",
    "    lags = 3\n",
    "    data <- r_panel[r_panel$city == city,][-lags]\n",
    "    city_data <- data.frame(diff(as.matrix(data[,c('inflation','imports','exports')])))\n",
    "    city_data$earthquake_dummy <- as.numeric(data$earthquake_dummy[-1])\n",
    "    city_data$diff_sum_lum <- diff(data$sum_lum) - diff(data$region_sum_lum)\n",
    "    var <- VAR(city_data, p=lags)\n",
    "    result <- data.frame(\n",
    "        'city'= c(city),\n",
    "        'el1'= c(var$varresult$diff_sum_lum$coefficients['diff_sum_lum.l1']),\n",
    "        'el3'= c(var$varresult$diff_sum_lum$coefficients['diff_sum_lum.l3']),\n",
    "        'el2'= c(var$varresult$diff_sum_lum$coefficients['diff_sum_lum.l2'])\n",
    "    )\n",
    "    results <- rbind(results,result)\n",
    "}\n",
    "rownames(results) <- results$city\n",
    "results <- results[c('el1','el2','el3')]"
   ]
  },
  {
   "cell_type": "code",
   "execution_count": 141,
   "metadata": {},
   "outputs": [
    {
     "name": "stderr",
     "output_type": "stream",
     "text": [
      "/usr/local/lib/python3.5/site-packages/pandas/types/missing.py:147: RuntimeWarning: invalid value encountered in isnan\n",
      "  result = np.isnan(values)\n"
     ]
    }
   ],
   "source": [
    "filtered_results = results.dropna(axis=0)"
   ]
  },
  {
   "cell_type": "markdown",
   "metadata": {},
   "source": [
    "### Average Earthquake Coefficient\n",
    "Combine the earthquake lag coefficients from all the models"
   ]
  },
  {
   "cell_type": "code",
   "execution_count": 158,
   "metadata": {},
   "outputs": [
    {
     "name": "stdout",
     "output_type": "stream",
     "text": [
      "Average Coefficients: \n",
      "el1   -0.4170\n",
      "el2   -0.3680\n",
      "el3   -0.2291\n",
      "dtype: float64\n"
     ]
    },
    {
     "data": {
      "image/png": "[encoded data removed]",
      "text/plain": [
       "<matplotlib.figure.Figure at 0x11dfc0470>"
      ]
     },
     "metadata": {},
     "output_type": "display_data"
    }
   ],
   "source": [
    "fig, axs = plt.subplots(3,1,figsize=(20,10))\n",
    "print('Average Coefficients: \\n{}'.format(filtered_results.mean()))\n",
    "for i, ax in enumerate(axs.flat):\n",
    "    ax.hist(filtered_results['el'+str(i+1)], bins=200)\n",
    "    ax.set_xlim([-8,8])\n",
    "    ax.set_title('Lag: {}'.format(i+1))\n",
    "    ax.axvline(filtered_results['el'+str(i+1)].mean(), c='r')\n",
    "    ax.axvline(np.percentile(filtered_results['el'+str(i+1)], 5), c='orange')\n",
    "    ax.axvline(np.percentile(filtered_results['el'+str(i+1)], 95), c='orange')\n",
    "    ax.axvline(np.percentile(filtered_results['el'+str(i+1)], 1), c='yellow')\n",
    "    ax.axvline(np.percentile(filtered_results['el'+str(i+1)], 99), c='yellow')\n",
    "    \n",
    "plt.show()"
   ]
  },
  {
   "cell_type": "code",
   "execution_count": null,
   "metadata": {
    "collapsed": true
   },
   "outputs": [],
   "source": []
  }
 ],
 "metadata": {
  "kernelspec": {
   "display_name": "Python 3",
   "language": "python",
   "name": "python3"
  },
  "language_info": {
   "codemirror_mode": {
    "name": "ipython",
    "version": 3
   },
   "file_extension": ".py",
   "mimetype": "text/x-python",
   "name": "python",
   "nbconvert_exporter": "python",
   "pygments_lexer": "ipython3",
   "version": "3.5.2"
  }
 },
 "nbformat": 4,
 "nbformat_minor": 2
}

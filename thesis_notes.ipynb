{
 "cells": [
  {
   "cell_type": "markdown",
   "metadata": {},
   "source": [
    "# Thesis Notes"
   ]
  },
  {
   "cell_type": "markdown",
   "metadata": {},
   "source": [
    "## Feature Engineering\n",
    "\n",
    "The data is actually very large (multiple GB of image data in total for only the satellite images from the [NOAA](https://www.ngdc.noaa.gov/eog/dmsp/downloadV4composites.html#AVSLCFC).\n",
    "\n",
    "__But__: The number of observations (_n_) given naturally is actually not that big since only yearly data from 1992 onwards is available. But we do have a large number of features (_m_) given by the size of the images (~ 16kx43k). To use the data in a meaningful way it makes sense to engineer the features to give more information about the connection we want to study (natural disasters => luminosity)."
   ]
  },
  {
   "cell_type": "markdown",
   "metadata": {},
   "source": []
  }
 ],
 "metadata": {
  "kernelspec": {
   "display_name": "Python 3",
   "language": "python",
   "name": "python3"
  },
  "language_info": {
   "codemirror_mode": {
    "name": "ipython",
    "version": 3
   },
   "file_extension": ".py",
   "mimetype": "text/x-python",
   "name": "python",
   "nbconvert_exporter": "python",
   "pygments_lexer": "ipython3",
   "version": "3.5.2"
  }
 },
 "nbformat": 4,
 "nbformat_minor": 2
}
